{
 "cells": [
  {
   "cell_type": "markdown",
   "metadata": {},
   "source": [
    "# Homework 3 Task 2\n",
    "\n",
    "# Alexey Ivashka\n",
    "\n",
    "### For me it's much faster to complete this task using Python"
   ]
  },
  {
   "cell_type": "code",
   "execution_count": 1,
   "metadata": {},
   "outputs": [],
   "source": [
    "from openpyxl import load_workbook\n",
    "import pandas as pd\n",
    "import warnings\n",
    "warnings.filterwarnings('ignore')"
   ]
  },
  {
   "cell_type": "markdown",
   "metadata": {},
   "source": [
    "#### Lets read our file and make some preparations"
   ]
  },
  {
   "cell_type": "code",
   "execution_count": 2,
   "metadata": {},
   "outputs": [
    {
     "data": {
      "text/html": [
       "<div>\n",
       "<style scoped>\n",
       "    .dataframe tbody tr th:only-of-type {\n",
       "        vertical-align: middle;\n",
       "    }\n",
       "\n",
       "    .dataframe tbody tr th {\n",
       "        vertical-align: top;\n",
       "    }\n",
       "\n",
       "    .dataframe thead th {\n",
       "        text-align: right;\n",
       "    }\n",
       "</style>\n",
       "<table border=\"1\" class=\"dataframe\">\n",
       "  <thead>\n",
       "    <tr style=\"text-align: right;\">\n",
       "      <th></th>\n",
       "      <th>Company</th>\n",
       "      <th>Segment</th>\n",
       "      <th>Brand</th>\n",
       "      <th>Product</th>\n",
       "      <th>Sales Volume 1000 Ltrs</th>\n",
       "      <th>Price per liter</th>\n",
       "      <th>Weighted Selling Distribution</th>\n",
       "      <th>Sales value kEUR</th>\n",
       "      <th>ROS volume</th>\n",
       "    </tr>\n",
       "  </thead>\n",
       "  <tbody>\n",
       "    <tr>\n",
       "      <th>0</th>\n",
       "      <td>Company</td>\n",
       "      <td>Segment</td>\n",
       "      <td>Brand</td>\n",
       "      <td>Product</td>\n",
       "      <td>Sales Volume 1000 Ltrs</td>\n",
       "      <td>Price per liter</td>\n",
       "      <td>Weighted Selling Distribution</td>\n",
       "      <td>Sales value kEUR</td>\n",
       "      <td>ROS volume</td>\n",
       "    </tr>\n",
       "    <tr>\n",
       "      <th>1</th>\n",
       "      <td>CARLSBERG BALTIC</td>\n",
       "      <td>CRAFT</td>\n",
       "      <td>RUGTAIS DUMPIS</td>\n",
       "      <td>RUGTAIS DUMPIS</td>\n",
       "      <td>211.744</td>\n",
       "      <td>2.01795</td>\n",
       "      <td>63.33</td>\n",
       "      <td>None</td>\n",
       "      <td>None</td>\n",
       "    </tr>\n",
       "    <tr>\n",
       "      <th>2</th>\n",
       "      <td>CARLSBERG BALTIC</td>\n",
       "      <td>CRAFT</td>\n",
       "      <td>MEZPILS</td>\n",
       "      <td>MEZPILS</td>\n",
       "      <td>202.994</td>\n",
       "      <td>2.11261</td>\n",
       "      <td>68.12</td>\n",
       "      <td>None</td>\n",
       "      <td>None</td>\n",
       "    </tr>\n",
       "    <tr>\n",
       "      <th>3</th>\n",
       "      <td>CARLSBERG BALTIC</td>\n",
       "      <td>CRAFT</td>\n",
       "      <td>ALDARIS</td>\n",
       "      <td>PORTERIS</td>\n",
       "      <td>139.581</td>\n",
       "      <td>2.56212</td>\n",
       "      <td>42.29</td>\n",
       "      <td>None</td>\n",
       "      <td>None</td>\n",
       "    </tr>\n",
       "    <tr>\n",
       "      <th>4</th>\n",
       "      <td>CARLSBERG BALTIC</td>\n",
       "      <td>CRAFT</td>\n",
       "      <td>ALDARIS</td>\n",
       "      <td>PORTERIS EKSKLUZIVAIS</td>\n",
       "      <td>11.7836</td>\n",
       "      <td>3.48925</td>\n",
       "      <td>23.07</td>\n",
       "      <td>None</td>\n",
       "      <td>None</td>\n",
       "    </tr>\n",
       "    <tr>\n",
       "      <th>...</th>\n",
       "      <td>...</td>\n",
       "      <td>...</td>\n",
       "      <td>...</td>\n",
       "      <td>...</td>\n",
       "      <td>...</td>\n",
       "      <td>...</td>\n",
       "      <td>...</td>\n",
       "      <td>...</td>\n",
       "      <td>...</td>\n",
       "    </tr>\n",
       "    <tr>\n",
       "      <th>243</th>\n",
       "      <td>None</td>\n",
       "      <td>None</td>\n",
       "      <td>Tell about convert function</td>\n",
       "      <td>None</td>\n",
       "      <td>None</td>\n",
       "      <td>None</td>\n",
       "      <td>None</td>\n",
       "      <td>None</td>\n",
       "      <td>None</td>\n",
       "    </tr>\n",
       "    <tr>\n",
       "      <th>244</th>\n",
       "      <td>None</td>\n",
       "      <td>None</td>\n",
       "      <td>None</td>\n",
       "      <td>None</td>\n",
       "      <td>None</td>\n",
       "      <td>None</td>\n",
       "      <td>None</td>\n",
       "      <td>None</td>\n",
       "      <td>None</td>\n",
       "    </tr>\n",
       "    <tr>\n",
       "      <th>245</th>\n",
       "      <td>None</td>\n",
       "      <td>None</td>\n",
       "      <td>None</td>\n",
       "      <td>None</td>\n",
       "      <td>None</td>\n",
       "      <td>None</td>\n",
       "      <td>None</td>\n",
       "      <td>None</td>\n",
       "      <td>None</td>\n",
       "    </tr>\n",
       "    <tr>\n",
       "      <th>246</th>\n",
       "      <td>None</td>\n",
       "      <td>Next week:</td>\n",
       "      <td>Use filtering; subtotal function</td>\n",
       "      <td>None</td>\n",
       "      <td>None</td>\n",
       "      <td>None</td>\n",
       "      <td>None</td>\n",
       "      <td>None</td>\n",
       "      <td>None</td>\n",
       "    </tr>\n",
       "    <tr>\n",
       "      <th>247</th>\n",
       "      <td>None</td>\n",
       "      <td>None</td>\n",
       "      <td>Use table</td>\n",
       "      <td>None</td>\n",
       "      <td>None</td>\n",
       "      <td>None</td>\n",
       "      <td>None</td>\n",
       "      <td>None</td>\n",
       "      <td>None</td>\n",
       "    </tr>\n",
       "  </tbody>\n",
       "</table>\n",
       "<p>248 rows × 9 columns</p>\n",
       "</div>"
      ],
      "text/plain": [
       "0             Company     Segment                             Brand  \\\n",
       "0             Company     Segment                             Brand   \n",
       "1    CARLSBERG BALTIC       CRAFT                    RUGTAIS DUMPIS   \n",
       "2    CARLSBERG BALTIC       CRAFT                           MEZPILS   \n",
       "3    CARLSBERG BALTIC       CRAFT                           ALDARIS   \n",
       "4    CARLSBERG BALTIC       CRAFT                           ALDARIS   \n",
       "..                ...         ...                               ...   \n",
       "243              None        None       Tell about convert function   \n",
       "244              None        None                              None   \n",
       "245              None        None                              None   \n",
       "246              None  Next week:  Use filtering; subtotal function   \n",
       "247              None        None                         Use table   \n",
       "\n",
       "0                  Product  Sales Volume 1000 Ltrs  Price per liter  \\\n",
       "0                  Product  Sales Volume 1000 Ltrs  Price per liter   \n",
       "1           RUGTAIS DUMPIS                 211.744          2.01795   \n",
       "2                  MEZPILS                 202.994          2.11261   \n",
       "3                 PORTERIS                 139.581          2.56212   \n",
       "4    PORTERIS EKSKLUZIVAIS                 11.7836          3.48925   \n",
       "..                     ...                     ...              ...   \n",
       "243                   None                    None             None   \n",
       "244                   None                    None             None   \n",
       "245                   None                    None             None   \n",
       "246                   None                    None             None   \n",
       "247                   None                    None             None   \n",
       "\n",
       "0    Weighted Selling Distribution  Sales value kEUR  ROS volume  \n",
       "0    Weighted Selling Distribution  Sales value kEUR  ROS volume  \n",
       "1                            63.33              None        None  \n",
       "2                            68.12              None        None  \n",
       "3                            42.29              None        None  \n",
       "4                            23.07              None        None  \n",
       "..                             ...               ...         ...  \n",
       "243                           None              None        None  \n",
       "244                           None              None        None  \n",
       "245                           None              None        None  \n",
       "246                           None              None        None  \n",
       "247                           None              None        None  \n",
       "\n",
       "[248 rows x 9 columns]"
      ]
     },
     "execution_count": 2,
     "metadata": {},
     "output_type": "execute_result"
    }
   ],
   "source": [
    "wb = load_workbook('PS3_2.xlsx')\n",
    "sheet = wb['Problem 1']\n",
    "\n",
    "df = pd.DataFrame(sheet.values)\n",
    "\n",
    "df.columns = df.iloc[0]\n",
    "df"
   ]
  },
  {
   "cell_type": "markdown",
   "metadata": {},
   "source": [
    "### We see that we have 248 rows, but data is only on 158 rows"
   ]
  },
  {
   "attachments": {
    "Screenshot%202021-03-01%20150549.png": {
     "image/png": "[encoded data removed]"
    }
   },
   "cell_type": "markdown",
   "metadata": {},
   "source": [
    "![Screenshot%202021-03-01%20150549.png](attachment:Screenshot%202021-03-01%20150549.png)"
   ]
  },
  {
   "cell_type": "markdown",
   "metadata": {},
   "source": [
    "### This data is unnecessary so we can cut it "
   ]
  },
  {
   "cell_type": "code",
   "execution_count": 3,
   "metadata": {},
   "outputs": [
    {
     "data": {
      "text/plain": [
       "0\n",
       "Company                          object\n",
       "Segment                          object\n",
       "Brand                            object\n",
       "Product                          object\n",
       "Sales Volume 1000 Ltrs           object\n",
       "Price per liter                  object\n",
       "Weighted Selling Distribution    object\n",
       "Sales value kEUR                 object\n",
       "ROS volume                       object\n",
       "dtype: object"
      ]
     },
     "execution_count": 3,
     "metadata": {},
     "output_type": "execute_result"
    }
   ],
   "source": [
    "df.columns = df.iloc[0]\n",
    "df = df.iloc[1:158]\n",
    "df.dtypes"
   ]
  },
  {
   "cell_type": "markdown",
   "metadata": {},
   "source": [
    "### Let's convert numbers to float type"
   ]
  },
  {
   "cell_type": "code",
   "execution_count": 4,
   "metadata": {},
   "outputs": [
    {
     "name": "stdout",
     "output_type": "stream",
     "text": [
      "0\n",
      "Company                           object\n",
      "Segment                           object\n",
      "Brand                             object\n",
      "Product                           object\n",
      "Sales Volume 1000 Ltrs           float64\n",
      "Price per liter                  float64\n",
      "Weighted Selling Distribution    float64\n",
      "Sales value kEUR                  object\n",
      "ROS volume                        object\n",
      "dtype: object\n"
     ]
    },
    {
     "data": {
      "text/html": [
       "<div>\n",
       "<style scoped>\n",
       "    .dataframe tbody tr th:only-of-type {\n",
       "        vertical-align: middle;\n",
       "    }\n",
       "\n",
       "    .dataframe tbody tr th {\n",
       "        vertical-align: top;\n",
       "    }\n",
       "\n",
       "    .dataframe thead th {\n",
       "        text-align: right;\n",
       "    }\n",
       "</style>\n",
       "<table border=\"1\" class=\"dataframe\">\n",
       "  <thead>\n",
       "    <tr style=\"text-align: right;\">\n",
       "      <th></th>\n",
       "      <th>Company</th>\n",
       "      <th>Segment</th>\n",
       "      <th>Brand</th>\n",
       "      <th>Product</th>\n",
       "      <th>Sales Volume 1000 Ltrs</th>\n",
       "      <th>Price per liter</th>\n",
       "      <th>Weighted Selling Distribution</th>\n",
       "      <th>Sales value kEUR</th>\n",
       "      <th>ROS volume</th>\n",
       "    </tr>\n",
       "  </thead>\n",
       "  <tbody>\n",
       "    <tr>\n",
       "      <th>1</th>\n",
       "      <td>CARLSBERG BALTIC</td>\n",
       "      <td>CRAFT</td>\n",
       "      <td>RUGTAIS DUMPIS</td>\n",
       "      <td>RUGTAIS DUMPIS</td>\n",
       "      <td>211.744016</td>\n",
       "      <td>2.017950</td>\n",
       "      <td>63.33</td>\n",
       "      <td>None</td>\n",
       "      <td>None</td>\n",
       "    </tr>\n",
       "    <tr>\n",
       "      <th>2</th>\n",
       "      <td>CARLSBERG BALTIC</td>\n",
       "      <td>CRAFT</td>\n",
       "      <td>MEZPILS</td>\n",
       "      <td>MEZPILS</td>\n",
       "      <td>202.993621</td>\n",
       "      <td>2.112613</td>\n",
       "      <td>68.12</td>\n",
       "      <td>None</td>\n",
       "      <td>None</td>\n",
       "    </tr>\n",
       "    <tr>\n",
       "      <th>3</th>\n",
       "      <td>CARLSBERG BALTIC</td>\n",
       "      <td>CRAFT</td>\n",
       "      <td>ALDARIS</td>\n",
       "      <td>PORTERIS</td>\n",
       "      <td>139.580734</td>\n",
       "      <td>2.562119</td>\n",
       "      <td>42.29</td>\n",
       "      <td>None</td>\n",
       "      <td>None</td>\n",
       "    </tr>\n",
       "    <tr>\n",
       "      <th>4</th>\n",
       "      <td>CARLSBERG BALTIC</td>\n",
       "      <td>CRAFT</td>\n",
       "      <td>ALDARIS</td>\n",
       "      <td>PORTERIS EKSKLUZIVAIS</td>\n",
       "      <td>11.783595</td>\n",
       "      <td>3.489255</td>\n",
       "      <td>23.07</td>\n",
       "      <td>None</td>\n",
       "      <td>None</td>\n",
       "    </tr>\n",
       "    <tr>\n",
       "      <th>5</th>\n",
       "      <td>CARLSBERG BALTIC</td>\n",
       "      <td>PREMIUM</td>\n",
       "      <td>ALDARIS</td>\n",
       "      <td>BEZALKOHOLISKAIS</td>\n",
       "      <td>223.500807</td>\n",
       "      <td>1.783514</td>\n",
       "      <td>68.56</td>\n",
       "      <td>None</td>\n",
       "      <td>None</td>\n",
       "    </tr>\n",
       "  </tbody>\n",
       "</table>\n",
       "</div>"
      ],
      "text/plain": [
       "0           Company  Segment           Brand                Product  \\\n",
       "1  CARLSBERG BALTIC    CRAFT  RUGTAIS DUMPIS         RUGTAIS DUMPIS   \n",
       "2  CARLSBERG BALTIC    CRAFT         MEZPILS                MEZPILS   \n",
       "3  CARLSBERG BALTIC    CRAFT         ALDARIS               PORTERIS   \n",
       "4  CARLSBERG BALTIC    CRAFT         ALDARIS  PORTERIS EKSKLUZIVAIS   \n",
       "5  CARLSBERG BALTIC  PREMIUM         ALDARIS       BEZALKOHOLISKAIS   \n",
       "\n",
       "0  Sales Volume 1000 Ltrs  Price per liter  Weighted Selling Distribution  \\\n",
       "1              211.744016         2.017950                          63.33   \n",
       "2              202.993621         2.112613                          68.12   \n",
       "3              139.580734         2.562119                          42.29   \n",
       "4               11.783595         3.489255                          23.07   \n",
       "5              223.500807         1.783514                          68.56   \n",
       "\n",
       "0 Sales value kEUR ROS volume  \n",
       "1             None       None  \n",
       "2             None       None  \n",
       "3             None       None  \n",
       "4             None       None  \n",
       "5             None       None  "
      ]
     },
     "execution_count": 4,
     "metadata": {},
     "output_type": "execute_result"
    }
   ],
   "source": [
    "df['Sales Volume 1000 Ltrs'] = df['Sales Volume 1000 Ltrs'].astype(float)\n",
    "df['Price per liter'] = df['Price per liter'].astype(float)\n",
    "df['Weighted Selling Distribution'] = df['Weighted Selling Distribution'].astype(float)\n",
    "print(df.dtypes)\n",
    "df.head(5)"
   ]
  },
  {
   "cell_type": "markdown",
   "metadata": {},
   "source": [
    "### Our data is ready for further analysis"
   ]
  },
  {
   "cell_type": "markdown",
   "metadata": {},
   "source": [
    "## Calculate sales value for each row\n",
    "\n",
    " I calculate sales value as sales volume multiplied by price per liter"
   ]
  },
  {
   "cell_type": "code",
   "execution_count": 5,
   "metadata": {},
   "outputs": [
    {
     "data": {
      "text/html": [
       "<div>\n",
       "<style scoped>\n",
       "    .dataframe tbody tr th:only-of-type {\n",
       "        vertical-align: middle;\n",
       "    }\n",
       "\n",
       "    .dataframe tbody tr th {\n",
       "        vertical-align: top;\n",
       "    }\n",
       "\n",
       "    .dataframe thead th {\n",
       "        text-align: right;\n",
       "    }\n",
       "</style>\n",
       "<table border=\"1\" class=\"dataframe\">\n",
       "  <thead>\n",
       "    <tr style=\"text-align: right;\">\n",
       "      <th></th>\n",
       "      <th>Company</th>\n",
       "      <th>Segment</th>\n",
       "      <th>Brand</th>\n",
       "      <th>Product</th>\n",
       "      <th>Sales Volume 1000 Ltrs</th>\n",
       "      <th>Price per liter</th>\n",
       "      <th>Weighted Selling Distribution</th>\n",
       "      <th>Sales value kEUR</th>\n",
       "      <th>ROS volume</th>\n",
       "    </tr>\n",
       "  </thead>\n",
       "  <tbody>\n",
       "    <tr>\n",
       "      <th>1</th>\n",
       "      <td>CARLSBERG BALTIC</td>\n",
       "      <td>CRAFT</td>\n",
       "      <td>RUGTAIS DUMPIS</td>\n",
       "      <td>RUGTAIS DUMPIS</td>\n",
       "      <td>211.744016</td>\n",
       "      <td>2.017950</td>\n",
       "      <td>63.33</td>\n",
       "      <td>427.288764</td>\n",
       "      <td>None</td>\n",
       "    </tr>\n",
       "    <tr>\n",
       "      <th>2</th>\n",
       "      <td>CARLSBERG BALTIC</td>\n",
       "      <td>CRAFT</td>\n",
       "      <td>MEZPILS</td>\n",
       "      <td>MEZPILS</td>\n",
       "      <td>202.993621</td>\n",
       "      <td>2.112613</td>\n",
       "      <td>68.12</td>\n",
       "      <td>428.847041</td>\n",
       "      <td>None</td>\n",
       "    </tr>\n",
       "    <tr>\n",
       "      <th>3</th>\n",
       "      <td>CARLSBERG BALTIC</td>\n",
       "      <td>CRAFT</td>\n",
       "      <td>ALDARIS</td>\n",
       "      <td>PORTERIS</td>\n",
       "      <td>139.580734</td>\n",
       "      <td>2.562119</td>\n",
       "      <td>42.29</td>\n",
       "      <td>357.622449</td>\n",
       "      <td>None</td>\n",
       "    </tr>\n",
       "    <tr>\n",
       "      <th>4</th>\n",
       "      <td>CARLSBERG BALTIC</td>\n",
       "      <td>CRAFT</td>\n",
       "      <td>ALDARIS</td>\n",
       "      <td>PORTERIS EKSKLUZIVAIS</td>\n",
       "      <td>11.783595</td>\n",
       "      <td>3.489255</td>\n",
       "      <td>23.07</td>\n",
       "      <td>41.115967</td>\n",
       "      <td>None</td>\n",
       "    </tr>\n",
       "    <tr>\n",
       "      <th>5</th>\n",
       "      <td>CARLSBERG BALTIC</td>\n",
       "      <td>PREMIUM</td>\n",
       "      <td>ALDARIS</td>\n",
       "      <td>BEZALKOHOLISKAIS</td>\n",
       "      <td>223.500807</td>\n",
       "      <td>1.783514</td>\n",
       "      <td>68.56</td>\n",
       "      <td>398.616927</td>\n",
       "      <td>None</td>\n",
       "    </tr>\n",
       "  </tbody>\n",
       "</table>\n",
       "</div>"
      ],
      "text/plain": [
       "0           Company  Segment           Brand                Product  \\\n",
       "1  CARLSBERG BALTIC    CRAFT  RUGTAIS DUMPIS         RUGTAIS DUMPIS   \n",
       "2  CARLSBERG BALTIC    CRAFT         MEZPILS                MEZPILS   \n",
       "3  CARLSBERG BALTIC    CRAFT         ALDARIS               PORTERIS   \n",
       "4  CARLSBERG BALTIC    CRAFT         ALDARIS  PORTERIS EKSKLUZIVAIS   \n",
       "5  CARLSBERG BALTIC  PREMIUM         ALDARIS       BEZALKOHOLISKAIS   \n",
       "\n",
       "0  Sales Volume 1000 Ltrs  Price per liter  Weighted Selling Distribution  \\\n",
       "1              211.744016         2.017950                          63.33   \n",
       "2              202.993621         2.112613                          68.12   \n",
       "3              139.580734         2.562119                          42.29   \n",
       "4               11.783595         3.489255                          23.07   \n",
       "5              223.500807         1.783514                          68.56   \n",
       "\n",
       "0  Sales value kEUR ROS volume  \n",
       "1        427.288764       None  \n",
       "2        428.847041       None  \n",
       "3        357.622449       None  \n",
       "4         41.115967       None  \n",
       "5        398.616927       None  "
      ]
     },
     "execution_count": 5,
     "metadata": {},
     "output_type": "execute_result"
    }
   ],
   "source": [
    "df['Sales value kEUR'] = df['Sales Volume 1000 Ltrs']*df['Price per liter']\n",
    "df.head()"
   ]
  },
  {
   "cell_type": "markdown",
   "metadata": {},
   "source": [
    "## Calculate Mezpils brand share of total volume %"
   ]
  },
  {
   "cell_type": "code",
   "execution_count": 6,
   "metadata": {},
   "outputs": [
    {
     "name": "stdout",
     "output_type": "stream",
     "text": [
      "0.11 %\n"
     ]
    }
   ],
   "source": [
    "print(round(100*(df[df['Brand'] == 'MEZPILS'].sum()['Sales Volume 1000 Ltrs']/ df['Sales Volume 1000 Ltrs'].sum()), 2),'%')"
   ]
  },
  {
   "cell_type": "markdown",
   "metadata": {},
   "source": [
    "## Calculate Carlsberg company share of total value %"
   ]
  },
  {
   "cell_type": "code",
   "execution_count": 7,
   "metadata": {},
   "outputs": [
    {
     "name": "stdout",
     "output_type": "stream",
     "text": [
      "37.0 %\n"
     ]
    }
   ],
   "source": [
    "carlsberg_sales = df[df['Company'] == 'CARLSBERG BALTIC'].sum()['Sales value kEUR']\n",
    "total_sales = df.sum()['Sales value kEUR']\n",
    "\n",
    "carlsberg_market_share = round(carlsberg_sales/total_sales,2)*100\n",
    "print(carlsberg_market_share,'%')"
   ]
  },
  {
   "cell_type": "markdown",
   "metadata": {},
   "source": [
    "## How many Premium brands are there?"
   ]
  },
  {
   "cell_type": "code",
   "execution_count": 8,
   "metadata": {},
   "outputs": [
    {
     "data": {
      "text/plain": [
       "57"
      ]
     },
     "execution_count": 8,
     "metadata": {},
     "output_type": "execute_result"
    }
   ],
   "source": [
    "df[df['Segment'] == 'PREMIUM']['Segment'].count()"
   ]
  },
  {
   "cell_type": "markdown",
   "metadata": {},
   "source": [
    "## How many Premium brands of Olvi Group company are there?"
   ]
  },
  {
   "cell_type": "code",
   "execution_count": 9,
   "metadata": {},
   "outputs": [
    {
     "data": {
      "text/plain": [
       "88      CESU\n",
       "89      CESU\n",
       "90      CESU\n",
       "91      CESU\n",
       "92      CESU\n",
       "93      CESU\n",
       "94    MITAVA\n",
       "Name: Brand, dtype: object"
      ]
     },
     "execution_count": 9,
     "metadata": {},
     "output_type": "execute_result"
    }
   ],
   "source": [
    "df[(df['Segment'] == 'PREMIUM') & (df['Company'] == 'OLVI GROUP')]['Brand']"
   ]
  },
  {
   "cell_type": "markdown",
   "metadata": {},
   "source": [
    "### Based on the data above there are 2 unique brands"
   ]
  },
  {
   "cell_type": "markdown",
   "metadata": {},
   "source": [
    "## Calculate Premium  segment total volume"
   ]
  },
  {
   "cell_type": "code",
   "execution_count": 10,
   "metadata": {},
   "outputs": [
    {
     "data": {
      "text/plain": [
       "16500.02291342169"
      ]
     },
     "execution_count": 10,
     "metadata": {},
     "output_type": "execute_result"
    }
   ],
   "source": [
    "df[df['Segment'] == 'PREMIUM'].sum()['Sales Volume 1000 Ltrs']"
   ]
  },
  {
   "cell_type": "markdown",
   "metadata": {},
   "source": [
    "## What is Carlsberg company volume share in % of premium segment\n"
   ]
  },
  {
   "cell_type": "code",
   "execution_count": 11,
   "metadata": {},
   "outputs": [
    {
     "name": "stdout",
     "output_type": "stream",
     "text": [
      "59.87 %\n"
     ]
    }
   ],
   "source": [
    "carlsberg_premium_sales = df[(df['Segment'] == 'PREMIUM') & (df['Company'] == 'CARLSBERG BALTIC')].sum()['Sales value kEUR']\n",
    "total_premium_sales = df[(df['Segment'] == 'PREMIUM')].sum()['Sales value kEUR']\n",
    "\n",
    "\n",
    "market_share_carsberg_premium = round(100*carlsberg_premium_sales/total_premium_sales,2)\n",
    "print(market_share_carsberg_premium,'%')"
   ]
  },
  {
   "cell_type": "markdown",
   "metadata": {},
   "source": [
    "## Calculate Carlsberg company premium segment Aldaris brand volume share in total premium %"
   ]
  },
  {
   "cell_type": "code",
   "execution_count": 12,
   "metadata": {},
   "outputs": [
    {
     "name": "stdout",
     "output_type": "stream",
     "text": [
      "22.01 %\n"
     ]
    }
   ],
   "source": [
    "carlsberg_aldaris_premium_sales = df[(df['Segment'] == 'PREMIUM') & (df['Company'] == 'CARLSBERG BALTIC') & (df['Brand'] == 'ALDARIS')].sum()['Sales value kEUR']\n",
    "total_premium_sales = df[(df['Segment'] == 'PREMIUM')].sum()['Sales value kEUR']\n",
    "\n",
    "print(round(100*carlsberg_aldaris_premium_sales/total_premium_sales,2),'%')\n"
   ]
  },
  {
   "cell_type": "markdown",
   "metadata": {},
   "source": [
    "## How much Carlsberg company share in premium is larger  than its share in total market?\n",
    "\n",
    "I calculated this as the difference of Carlsberg Market Share in Premium segment and total Carlsberg Market Share"
   ]
  },
  {
   "cell_type": "code",
   "execution_count": 13,
   "metadata": {},
   "outputs": [
    {
     "name": "stdout",
     "output_type": "stream",
     "text": [
      "22.87 %\n"
     ]
    }
   ],
   "source": [
    "dif = round(market_share_carsberg_premium - carlsberg_market_share,3)\n",
    "print(dif,'%')\n"
   ]
  },
  {
   "cell_type": "markdown",
   "metadata": {},
   "source": [
    "##  How many brands take aggregated 80% of total premium segment market and how many fill up the bottom 10% on the premium segment?"
   ]
  },
  {
   "cell_type": "code",
   "execution_count": 14,
   "metadata": {},
   "outputs": [
    {
     "data": {
      "text/plain": [
       "Brand\n",
       "LACPLESIS      23.347\n",
       "ALDARIS        22.007\n",
       "D LIGHT        14.082\n",
       "CESU           11.758\n",
       "CARLSBERG       9.607\n",
       "TUBORG          8.226\n",
       "MITAVA          4.901\n",
       "BALTIKA         4.062\n",
       "ZATECKY GUS     0.882\n",
       "SAKU            0.400\n",
       "GRIMBERGEN      0.259\n",
       "NEVSKOJE        0.186\n",
       "FAXE            0.070\n",
       "OLD BOBBY       0.053\n",
       "MEZPILS         0.048\n",
       "LOMZA           0.035\n",
       "SAN MIGUEL      0.026\n",
       "VILKMERGES      0.023\n",
       "LVIVSKE         0.022\n",
       "KARMI           0.005\n",
       "ZELTA           0.002\n",
       "Name: Market Share by Brand, dtype: float64"
      ]
     },
     "execution_count": 14,
     "metadata": {},
     "output_type": "execute_result"
    }
   ],
   "source": [
    "market_share_by_brand = df[df['Segment'] == 'PREMIUM'].groupby(['Brand']).sum()\n",
    "market_share_by_brand['Market Share by Brand'] = round(100*market_share_by_brand['Sales value kEUR']/market_share_by_brand['Sales value kEUR'].sum(), 3)\n",
    "\n",
    "\n",
    "market_share_by_brand['Market Share by Brand'].sort_values(ascending=False)\n"
   ]
  },
  {
   "cell_type": "markdown",
   "metadata": {},
   "source": [
    "### As we can see from above 5 brands hold 80% of premium segment and 15 companies fill up the bottom 10%"
   ]
  },
  {
   "cell_type": "markdown",
   "metadata": {},
   "source": [
    "## What is the average price for all Mainstream brands?"
   ]
  },
  {
   "cell_type": "code",
   "execution_count": 15,
   "metadata": {},
   "outputs": [
    {
     "name": "stdout",
     "output_type": "stream",
     "text": [
      "1.433\n"
     ]
    }
   ],
   "source": [
    "mean_litr = df[(df['Segment'] == 'MAINSTREAM')].mean()['Price per liter']\n",
    "\n",
    "print(round(mean_litr, 3))"
   ]
  },
  {
   "cell_type": "markdown",
   "metadata": {},
   "source": [
    "## What is the average price for Carlsberg company Mainstream brands?"
   ]
  },
  {
   "cell_type": "code",
   "execution_count": 16,
   "metadata": {},
   "outputs": [
    {
     "name": "stdout",
     "output_type": "stream",
     "text": [
      "1.48\n"
     ]
    }
   ],
   "source": [
    "mean_litr_carlsberg = df[(df['Segment'] == 'MAINSTREAM') & (df['Company'] == 'CARLSBERG BALTIC')].mean()['Price per liter']\n",
    "\n",
    "print(round(mean_litr_carlsberg, 3))"
   ]
  }
 ],
 "metadata": {
  "kernelspec": {
   "display_name": "Python 3",
   "language": "python",
   "name": "python3"
  },
  "language_info": {
   "codemirror_mode": {
    "name": "ipython",
    "version": 3
   },
   "file_extension": ".py",
   "mimetype": "text/x-python",
   "name": "python",
   "nbconvert_exporter": "python",
   "pygments_lexer": "ipython3",
   "version": "3.7.9"
  }
 },
 "nbformat": 4,
 "nbformat_minor": 4
}
